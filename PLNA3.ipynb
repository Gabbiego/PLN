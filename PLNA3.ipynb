{
  "cells": [
    {
      "cell_type": "code",
      "source": [
        "import re\n",
        "\n",
        "texto = \"\"\"\n",
        "El 10 de agosto de 2025, María Pérez envió un correo electrónico a la dirección\n",
        "maria.perez@email.com solicitando información sobre el producto X-200. Su\n",
        "número\n",
        "de\n",
        "teléfono\n",
        "es\n",
        "+34\n",
        "612-345-678.\n",
        "Además,\n",
        "visitó\n",
        "la\n",
        "web\n",
        "https://www.ejemplo.com para consultar precios y disponibilidad.\n",
        "\n",
        "El servidor registró el acceso desde la IP 192.168.1.15 a las 14:23:56, y se detectó un\n",
        "error en el log con código ERR500. En Twitter, el usuario @DataAnalyst comentó: \"Los\n",
        "modelos de IA son el futuro #MachineLearning #IA2025\". El totaal de la compra fue\n",
        "de $199.99, y el cliente pagó con tarjeta VISA terminada en 1234.\n",
        "\n",
        "Por otro lado, el DNI de Juan García es 12345678Z y su código postal 28080. Para más\n",
        "información, puede llamar al 911 234 567 o visitar www.informacion.es. Recordamos\n",
        "que las feechas límite para inscripción son 2025-09-30 y 2025-10-15.\n",
        "\"\"\""
      ],
      "metadata": {
        "id": "0n91CpqoxnM7"
      },
      "execution_count": 4,
      "outputs": []
    },
    {
      "cell_type": "code",
      "source": [
        "# 1. Extraer todas las direcciones de correo electrónico. (Usé pattern básico para emails)\n",
        "print(\"Actividad 1: Extraer todas las direcciones de correo electrónico.\")\n",
        "emails = re.findall(r'\\b[A-Za-z0-9._%+-]+@[A-Za-z0-9.-]+\\.[A-Z|a-z]{2,}\\b', texto)\n",
        "print(emails)"
      ],
      "metadata": {
        "colab": {
          "base_uri": "https://localhost:8080/"
        },
        "id": "A9dA1mqRxqRA",
        "outputId": "a25337e1-7540-4d83-aefb-5e37dee94cd7"
      },
      "execution_count": 5,
      "outputs": [
        {
          "output_type": "stream",
          "name": "stdout",
          "text": [
            "Actividad 1: Extraer todas las direcciones de correo electrónico.\n",
            "['maria.perez@email.com']\n"
          ]
        }
      ]
    },
    {
      "cell_type": "code",
      "source": [
        "# 2. Extraer todas las URLs (con o sin protocolo). (Pattern flexible para http/www)\n",
        "print(\"Actividad 2: Extraer todas las URLs (con o sin protocolo).\")\n",
        "urls = re.findall(r'(?:https?://|www\\.)[A-Za-z0-9.-]+\\.[A-Za-z]{2,}(?:/[A-Za-z0-9._~%-]*\\??[A-Za-z0-9._~%&=+-]*)?', texto)\n",
        "print(urls)"
      ],
      "metadata": {
        "colab": {
          "base_uri": "https://localhost:8080/"
        },
        "id": "Iz_ccrKEyt23",
        "outputId": "b3f3b325-fe6c-4a74-e29f-9ee1cf13041e"
      },
      "execution_count": 6,
      "outputs": [
        {
          "output_type": "stream",
          "name": "stdout",
          "text": [
            "Actividad 2: Extraer todas las URLs (con o sin protocolo).\n",
            "['https://www.ejemplo.com', 'www.informacion.es']\n"
          ]
        }
      ]
    },
    {
      "cell_type": "code",
      "source": [
        "# 3. Validar y extraer números de teléfono en formato internacional y nacional. (Cubre +intl y nacional con guiones/espacios)\n",
        "print(\"Actividad 3: Validar y extraer números de teléfono en formato internacional y nacional.\")\n",
        "telefonos = re.findall(r'(?:\\+\\d{1,3}\\s?)?(?:\\d{3}[\\s-]?){2}\\d{3}', texto)\n",
        "print(telefonos)"
      ],
      "metadata": {
        "colab": {
          "base_uri": "https://localhost:8080/"
        },
        "id": "GL_CgZXUyvdm",
        "outputId": "fce17cad-9b12-43ba-c21c-f6139b54b5a4"
      },
      "execution_count": 7,
      "outputs": [
        {
          "output_type": "stream",
          "name": "stdout",
          "text": [
            "Actividad 3: Validar y extraer números de teléfono en formato internacional y nacional.\n",
            "['612-345-678', '911 234 567']\n"
          ]
        }
      ]
    },
    {
      "cell_type": "code",
      "source": [
        "# 4. Extraer fechas en formato yyyy-MM-dd. (Simple \\d{4}-\\d{2}-\\d{2})\n",
        "print(\"Actividad 4: Extraer fechas en formato yyyy-MM-dd.\")\n",
        "fechas = re.findall(r'\\d{4}-\\d{2}-\\d{2}', texto)\n",
        "print(fechas)"
      ],
      "metadata": {
        "colab": {
          "base_uri": "https://localhost:8080/"
        },
        "id": "f2HGnBlEy58y",
        "outputId": "0e0c8fe8-1554-4762-c564-b01d21f05b19"
      },
      "execution_count": 8,
      "outputs": [
        {
          "output_type": "stream",
          "name": "stdout",
          "text": [
            "Actividad 4: Extraer fechas en formato yyyy-MM-dd.\n",
            "['2025-09-30', '2025-10-15']\n"
          ]
        }
      ]
    },
    {
      "cell_type": "code",
      "source": [
        "# 5. Extraer códigos postales de 5 dígitos. (\\b\\d{5}\\b para exacto 5 digits)\n",
        "print(\"Actividad 5: Extraer códigos postales de 5 dígitos.\")\n",
        "postales = re.findall(r'\\b\\d{5}\\b', texto)\n",
        "print(postales)"
      ],
      "metadata": {
        "colab": {
          "base_uri": "https://localhost:8080/"
        },
        "id": "ReFVHSjay-S3",
        "outputId": "a6318d51-b9ab-4932-93e9-d5ddf82baa88"
      },
      "execution_count": 9,
      "outputs": [
        {
          "output_type": "stream",
          "name": "stdout",
          "text": [
            "Actividad 5: Extraer códigos postales de 5 dígitos.\n",
            "['28080']\n"
          ]
        }
      ]
    },
    {
      "cell_type": "code",
      "source": [
        "# 6. Extraer DNI (8 dígitos seguidos de letra mayúscula). (\\d{8}[A-Z])\n",
        "print(\"Actividad 6: Extraer DNI (8 dígitos seguidos de letra mayúscula).\")\n",
        "dni = re.findall(r'\\b\\d{8}[A-Z]\\b', texto)\n",
        "print(dni)"
      ],
      "metadata": {
        "colab": {
          "base_uri": "https://localhost:8080/"
        },
        "id": "7oPSyk6oy_al",
        "outputId": "b8eb6568-35fb-40bc-fdde-34ea942d2ba6"
      },
      "execution_count": 10,
      "outputs": [
        {
          "output_type": "stream",
          "name": "stdout",
          "text": [
            "Actividad 6: Extraer DNI (8 dígitos seguidos de letra mayúscula).\n",
            "['12345678Z']\n"
          ]
        }
      ]
    },
    {
      "cell_type": "code",
      "source": [
        "# 7. Extraer menciones de Twitter. (@\\w+ para @user)\n",
        "print(\"Actividad 7: Extraer menciones de Twitter.\")\n",
        "menciones = re.findall(r'@\\w+', texto)\n",
        "print(menciones)"
      ],
      "metadata": {
        "colab": {
          "base_uri": "https://localhost:8080/"
        },
        "id": "67Q8sZKezD6r",
        "outputId": "67c10174-f881-4cb7-8555-c5a4de07ab0a"
      },
      "execution_count": 11,
      "outputs": [
        {
          "output_type": "stream",
          "name": "stdout",
          "text": [
            "Actividad 7: Extraer menciones de Twitter.\n",
            "['@email', '@DataAnalyst']\n"
          ]
        }
      ]
    },
    {
      "cell_type": "code",
      "source": [
        "# 8. Extraer hashtags. (#\\w+ para #tag)\n",
        "print(\"Actividad 8: Extraer hashtags.\")\n",
        "hashtags = re.findall(r'#\\w+', texto)\n",
        "print(hashtags)"
      ],
      "metadata": {
        "colab": {
          "base_uri": "https://localhost:8080/"
        },
        "id": "ystf_NVczHOW",
        "outputId": "0ca50426-c61c-4933-daed-80568e71102e"
      },
      "execution_count": 12,
      "outputs": [
        {
          "output_type": "stream",
          "name": "stdout",
          "text": [
            "Actividad 8: Extraer hashtags.\n",
            "['#MachineLearning', '#IA2025']\n"
          ]
        }
      ]
    },
    {
      "cell_type": "code",
      "source": [
        "# 9. Extraer direcciones IP. (\\d{1,3}\\.\\d{1,3}\\.\\d{1,3}\\.\\d{1,3})\n",
        "print(\"Actividad 9: Extraer direcciones IP.\")\n",
        "ips = re.findall(r'\\b\\d{1,3}\\.\\d{1,3}\\.\\d{1,3}\\.\\d{1,3}\\b', texto)\n",
        "print(ips)"
      ],
      "metadata": {
        "colab": {
          "base_uri": "https://localhost:8080/"
        },
        "id": "mRmP24GJzKL5",
        "outputId": "2dd67381-f3f0-4adc-f065-2040695f5517"
      },
      "execution_count": 13,
      "outputs": [
        {
          "output_type": "stream",
          "name": "stdout",
          "text": [
            "Actividad 9: Extraer direcciones IP.\n",
            "['192.168.1.15']\n"
          ]
        }
      ]
    },
    {
      "cell_type": "code",
      "source": [
        "# 10. Extraer importes monetarios (con $ y decimales). (\\$\\d+\\.\\d{2})\n",
        "print(\"Actividad 10: Extraer importes monetarios (con $ y decimales).\")\n",
        "importes = re.findall(r'\\$\\d+\\.\\d{2}', texto)\n",
        "print(importes)"
      ],
      "metadata": {
        "colab": {
          "base_uri": "https://localhost:8080/"
        },
        "id": "IM-wK7fOzN_0",
        "outputId": "a6e9f061-d003-4f22-809e-e669f3e399bc"
      },
      "execution_count": 14,
      "outputs": [
        {
          "output_type": "stream",
          "name": "stdout",
          "text": [
            "Actividad 10: Extraer importes monetarios (con $ y decimales).\n",
            "['$199.99']\n"
          ]
        }
      ]
    },
    {
      "cell_type": "code",
      "source": [
        "# 11. Eliminar letras repetidas. (Sub (\\w)\\1+ a \\1)\n",
        "print(\"Actividad 11: Eliminar letras repetidas.\")\n",
        "texto_sin_repetidas = re.sub(r'([a-zA-Z])\\1+', r'\\1', texto)\n",
        "print(texto_sin_repetidas)"
      ],
      "metadata": {
        "colab": {
          "base_uri": "https://localhost:8080/"
        },
        "id": "GvI4Ih0uzTDd",
        "outputId": "22ec3b5e-ad3f-4e04-8f58-2cd0cff95295"
      },
      "execution_count": 15,
      "outputs": [
        {
          "output_type": "stream",
          "name": "stdout",
          "text": [
            "Actividad 11: Eliminar letras repetidas.\n",
            "\n",
            "El 10 de agosto de 2025, María Pérez envió un coreo electrónico a la direción\n",
            "maria.perez@email.com solicitando información sobre el producto X-200. Su\n",
            "número \n",
            "de \n",
            "teléfono \n",
            "es \n",
            "+34 \n",
            "612-345-678. \n",
            "Además, \n",
            "visitó \n",
            "la \n",
            "web \n",
            "htps://w.ejemplo.com para consultar precios y disponibilidad. \n",
            "\n",
            "El servidor registró el aceso desde la IP 192.168.1.15 a las 14:23:56, y se detectó un \n",
            "eror en el log con código ER500. En Twiter, el usuario @DataAnalyst comentó: \"Los \n",
            "modelos de IA son el futuro #MachineLearning #IA2025\". El total de la compra fue \n",
            "de $199.99, y el cliente pagó con tarjeta VISA terminada en 1234. \n",
            "\n",
            "Por otro lado, el DNI de Juan García es 12345678Z y su código postal 28080. Para más \n",
            "información, puede lamar al 911 234 567 o visitar w.informacion.es. Recordamos \n",
            "que las fechas límite para inscripción son 2025-09-30 y 2025-10-15.\n",
            "\n"
          ]
        }
      ]
    }
  ],
  "metadata": {
    "colab": {
      "name": "Te damos la bienvenida a Colab",
      "toc_visible": true,
      "provenance": []
    },
    "kernelspec": {
      "display_name": "Python 3",
      "name": "python3"
    }
  },
  "nbformat": 4,
  "nbformat_minor": 0
}